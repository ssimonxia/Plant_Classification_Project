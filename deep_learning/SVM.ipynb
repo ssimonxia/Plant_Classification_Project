{
 "cells": [
  {
   "cell_type": "code",
   "execution_count": 1,
   "metadata": {},
   "outputs": [],
   "source": [
    "from sklearn import svm\n",
    "import numpy as np\n",
    "import matplotlib.pyplot as plt\n",
    "from sklearn import metrics \n",
    "import tensorflow as tf\n",
    "from tensorflow.keras import layers, models\n",
    "import os\n",
    "from os import listdir\n",
    "import cv2\n",
    "import pandas as pd\n",
    "from skimage.transform import resize\n",
    "from skimage.io import imread"
   ]
  },
  {
   "cell_type": "code",
   "execution_count": 2,
   "metadata": {},
   "outputs": [
    {
     "data": {
      "text/plain": [
       "['Potato___Early_blight', 'Potato___healthy', 'Potato___Late_blight']"
      ]
     },
     "execution_count": 2,
     "metadata": {},
     "output_type": "execute_result"
    }
   ],
   "source": [
    "class_name = listdir(\"./PlantVillage/\")\n",
    "class_name"
   ]
  },
  {
   "cell_type": "code",
   "execution_count": 3,
   "metadata": {},
   "outputs": [],
   "source": [
    "dic = {}\n",
    "img = []\n",
    "label = []\n",
    "k = 0\n",
    "for i in class_name:\n",
    "    tmp = []\n",
    "    for j in listdir(\"./PlantVillage/\" + i):\n",
    "        img_array = cv2.imread(\"./PlantVillage/\" + i + \"/\" + j)\n",
    "        img_resize = cv2.resize(img_array, None, fx = 0.2, fy = 0.2)\n",
    "        img_temp = np.array(img_resize)\n",
    "        img_temp = img_temp.flatten()\n",
    "        tmp.append(img_temp)\n",
    "        img.append(img_temp)\n",
    "        label.append(k)\n",
    "    dic[i] = tmp\n",
    "    k+=1"
   ]
  },
  {
   "cell_type": "code",
   "execution_count": 4,
   "metadata": {},
   "outputs": [
    {
     "name": "stdout",
     "output_type": "stream",
     "text": [
      "1000\n",
      "1000\n",
      "152\n"
     ]
    }
   ],
   "source": [
    "print(len(dic[\"Potato___Early_blight\"]))\n",
    "print(len(dic[\"Potato___Late_blight\"]))\n",
    "print(len(dic[\"Potato___healthy\"]))"
   ]
  },
  {
   "cell_type": "code",
   "execution_count": 5,
   "metadata": {},
   "outputs": [
    {
     "name": "stdout",
     "output_type": "stream",
     "text": [
      "2152\n",
      "2152\n"
     ]
    }
   ],
   "source": [
    "print(len(img))\n",
    "print(len(label))"
   ]
  },
  {
   "cell_type": "code",
   "execution_count": 6,
   "metadata": {},
   "outputs": [],
   "source": [
    "img_array = np.array(img)\n",
    "label_array = np.array(label)"
   ]
  },
  {
   "cell_type": "code",
   "execution_count": 7,
   "metadata": {},
   "outputs": [
    {
     "data": {
      "text/plain": [
       "(2152, 7804)"
      ]
     },
     "execution_count": 7,
     "metadata": {},
     "output_type": "execute_result"
    }
   ],
   "source": [
    "df = pd.DataFrame(img_array)\n",
    "df[\"target\"] = label_array\n",
    "df.shape"
   ]
  },
  {
   "cell_type": "code",
   "execution_count": 8,
   "metadata": {},
   "outputs": [],
   "source": [
    "x=df.iloc[:,:-1] \n",
    "y=df.iloc[:,-1]"
   ]
  },
  {
   "cell_type": "code",
   "execution_count": 9,
   "metadata": {},
   "outputs": [],
   "source": [
    "from sklearn.model_selection import train_test_split\n",
    "train_x, test_x, train_y, test_y = train_test_split(x, y, test_size=0.3, random_state=123, stratify=y)"
   ]
  },
  {
   "cell_type": "code",
   "execution_count": 10,
   "metadata": {},
   "outputs": [
    {
     "name": "stdout",
     "output_type": "stream",
     "text": [
      "1506\n",
      "1506\n",
      "646\n",
      "646\n"
     ]
    }
   ],
   "source": [
    "print(len(train_x))\n",
    "print(len(train_y))\n",
    "print(len(test_x))\n",
    "print(len(test_y))"
   ]
  },
  {
   "cell_type": "code",
   "execution_count": 11,
   "metadata": {},
   "outputs": [
    {
     "name": "stdout",
     "output_type": "stream",
     "text": [
      "Series\n"
     ]
    }
   ],
   "source": [
    "print(train_x[0].__class__.__name__)"
   ]
  },
  {
   "cell_type": "code",
   "execution_count": 12,
   "metadata": {},
   "outputs": [],
   "source": [
    "from sklearn.model_selection import GridSearchCV\n",
    "# Defining the parameters grid for GridSearchCV \n",
    "param_grid={'C':[0.1,1,10,100], \n",
    "            'gamma':[0.0001,0.001,0.1,1], \n",
    "            'kernel':['rbf','poly']} \n",
    "  \n",
    "# Creating a support vector classifier \n",
    "svc=svm.SVC(probability=True) \n",
    "  \n",
    "# Creating a model using GridSearchCV with the parameters grid \n",
    "model=GridSearchCV(svc,param_grid)"
   ]
  },
  {
   "cell_type": "code",
   "execution_count": 13,
   "metadata": {},
   "outputs": [],
   "source": [
    "model.fit(train_x, train_y)"
   ]
  }
 ],
 "metadata": {
  "kernelspec": {
   "display_name": "Python 3",
   "language": "python",
   "name": "python3"
  },
  "language_info": {
   "codemirror_mode": {
    "name": "ipython",
    "version": 3
   },
   "file_extension": ".py",
   "mimetype": "text/x-python",
   "name": "python",
   "nbconvert_exporter": "python",
   "pygments_lexer": "ipython3",
   "version": "3.10.13"
  }
 },
 "nbformat": 4,
 "nbformat_minor": 2
}
